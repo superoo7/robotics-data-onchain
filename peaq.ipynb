{
 "cells": [
  {
   "cell_type": "code",
   "execution_count": 8,
   "id": "8f0e78f7",
   "metadata": {},
   "outputs": [
    {
     "data": {
      "text/plain": [
       "True"
      ]
     },
     "execution_count": 8,
     "metadata": {},
     "output_type": "execute_result"
    }
   ],
   "source": [
    "from dotenv import load_dotenv\n",
    "import os\n",
    "\n",
    "load_dotenv()"
   ]
  },
  {
   "cell_type": "code",
   "execution_count": 9,
   "id": "714fbd5c",
   "metadata": {},
   "outputs": [
    {
     "name": "stdout",
     "output_type": "stream",
     "text": [
      "5GCUb68EX1tySkQHei1aQsKAgQ2r9hM7XaGAGi2B8dtwsLxk\n",
      "2.0\n"
     ]
    }
   ],
   "source": [
    "from peaq_robot import PeaqRobot\n",
    "\n",
    "sdk = PeaqRobot()\n",
    "sdk = PeaqRobot(network=\"agung\", mnemonic=os.getenv(\"MNEMONIC_1\"))\n",
    "\n",
    "print(sdk.address)\n",
    "print(sdk.balance)"
   ]
  },
  {
   "cell_type": "code",
   "execution_count": 10,
   "id": "406735fe",
   "metadata": {},
   "outputs": [
    {
     "data": {
      "text/plain": [
       "'0x1b74accb01df1bb1fb86805683cf267ad0170254ca849f17d84397c78ee1bb59'"
      ]
     },
     "execution_count": 10,
     "metadata": {},
     "output_type": "execute_result"
    }
   ],
   "source": [
    "sdk.id.create_identity()\n",
    "sdk.store.add_data(\"DEMO\", {\"ok\": True})"
   ]
  },
  {
   "cell_type": "code",
   "execution_count": 12,
   "id": "b80c98b8",
   "metadata": {},
   "outputs": [
    {
     "name": "stdout",
     "output_type": "stream",
     "text": [
      "{'authentications': ['did:peaq:5GCUb68EX1tySkQHei1aQsKAgQ2r9hM7XaGAGi2B8dtwsLxk#keys-1'],\n",
      " 'controller': 'did:peaq:5GCUb68EX1tySkQHei1aQsKAgQ2r9hM7XaGAGi2B8dtwsLxk',\n",
      " 'id': 'did:peaq:5GCUb68EX1tySkQHei1aQsKAgQ2r9hM7XaGAGi2B8dtwsLxk',\n",
      " 'services': [],\n",
      " 'signature': {'hash': '44136fa355b3678a1146ad16f7e8649e94fb4fc21fe77e8310c060f61caaff8a',\n",
      "               'issuer': '5GCUb68EX1tySkQHei1aQsKAgQ2r9hM7XaGAGi2B8dtwsLxk',\n",
      "               'type': 'Sr25519VerificationKey2020'},\n",
      " 'verificationMethods': [{'controller': 'did:peaq:5GCUb68EX1tySkQHei1aQsKAgQ2r9hM7XaGAGi2B8dtwsLxk',\n",
      "                          'id': 'did:peaq:5GCUb68EX1tySkQHei1aQsKAgQ2r9hM7XaGAGi2B8dtwsLxk#keys-1',\n",
      "                          'publicKeyMultibase': 'b6de3b1d1487ee81e91f6008a508799b38ac406c4362c6d894ca68ab7b24b94e',\n",
      "                          'type': 'Sr25519VerificationKey2020'}]}\n"
     ]
    }
   ],
   "source": [
    "import pprint\n",
    "doc = sdk.id.read_identity()\n",
    "pprint.pprint(doc[\"decoded_data\"])"
   ]
  },
  {
   "cell_type": "code",
   "execution_count": 14,
   "id": "bc5c8eab",
   "metadata": {},
   "outputs": [
    {
     "name": "stdout",
     "output_type": "stream",
     "text": [
      "{'account': '5GCUb68EX1tySkQHei1aQsKAgQ2r9hM7XaGAGi2B8dtwsLxk',\n",
      " 'data': {'ok': True},\n",
      " 'data_type': 'DEMO',\n",
      " 'exists': True,\n",
      " 'raw': '{\"ok\":true}',\n",
      " 'read_status': 'success'}\n"
     ]
    }
   ],
   "source": [
    "res = sdk.store.read_data(\"DEMO\")\n",
    "pprint.pprint(res)"
   ]
  },
  {
   "cell_type": "code",
   "execution_count": 15,
   "id": "3371e8e5",
   "metadata": {},
   "outputs": [],
   "source": [
    "res = sdk.store.add_data(\"ChromBot\", {})"
   ]
  },
  {
   "cell_type": "code",
   "execution_count": 17,
   "id": "baf8f4c9",
   "metadata": {},
   "outputs": [],
   "source": [
    "import time\n",
    "\n",
    "res = sdk.store.add_data(\"chrombot\", {\n",
    "    \"timestamp\": time.time(),\n",
    "    \"battery_level\": 69,\n",
    "    \"status\": \"ok\",\n",
    "})"
   ]
  },
  {
   "cell_type": "code",
   "execution_count": 18,
   "id": "9e9647e3",
   "metadata": {},
   "outputs": [
    {
     "name": "stdout",
     "output_type": "stream",
     "text": [
      "{'account': '5GCUb68EX1tySkQHei1aQsKAgQ2r9hM7XaGAGi2B8dtwsLxk',\n",
      " 'data': {'battery_level': 69, 'status': 'ok', 'timestamp': 1758691299.424983},\n",
      " 'data_type': 'chrombot',\n",
      " 'exists': True,\n",
      " 'raw': '{\"timestamp\":1758691299.424983,\"battery_level\":69,\"status\":\"ok\"}',\n",
      " 'read_status': 'success'}\n"
     ]
    }
   ],
   "source": [
    "res = sdk.store.read_data(\"chrombot\")\n",
    "pprint.pprint(res)"
   ]
  },
  {
   "cell_type": "code",
   "execution_count": null,
   "id": "0925b07f",
   "metadata": {},
   "outputs": [],
   "source": []
  }
 ],
 "metadata": {
  "kernelspec": {
   "display_name": ".venv",
   "language": "python",
   "name": "python3"
  },
  "language_info": {
   "codemirror_mode": {
    "name": "ipython",
    "version": 3
   },
   "file_extension": ".py",
   "mimetype": "text/x-python",
   "name": "python",
   "nbconvert_exporter": "python",
   "pygments_lexer": "ipython3",
   "version": "3.12.2"
  }
 },
 "nbformat": 4,
 "nbformat_minor": 5
}
