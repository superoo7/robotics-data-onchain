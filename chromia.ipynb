{
 "cells": [
  {
   "cell_type": "code",
   "execution_count": 1,
   "id": "67e39550",
   "metadata": {},
   "outputs": [],
   "source": [
    "from dotenv import load_dotenv\n",
    "load_dotenv()\n",
    "\n",
    "import os\n",
    "import asyncio\n",
    "from postchain_client_py import BlockchainClient\n",
    "from postchain_client_py.blockchain_client.types import NetworkSettings, Operation, Transaction\n",
    "    \n",
    "# Initialize network settings\n",
    "settings = NetworkSettings(\n",
    "    node_url_pool=[\"http://localhost:7740\"],\n",
    "    blockchain_iid=0,\n",
    ")\n",
    "    \n",
    "# Create client and execute query\n",
    "client = await BlockchainClient.create(settings)"
   ]
  },
  {
   "cell_type": "code",
   "execution_count": 2,
   "id": "6839a046",
   "metadata": {},
   "outputs": [
    {
     "name": "stdout",
     "output_type": "stream",
     "text": [
      "Sensor Count: 0\n",
      "Telemetry Count: 0\n"
     ]
    }
   ],
   "source": [
    "sensor_result = await client.query(\"get_sensor_count\")\n",
    "telemetry_result = await client.query(\"get_telemetry_count\")\n",
    "print(f\"Sensor Count: {sensor_result}\")\n",
    "print(f\"Telemetry Count: {telemetry_result}\")\n"
   ]
  },
  {
   "cell_type": "code",
   "execution_count": 3,
   "id": "785cdad7",
   "metadata": {},
   "outputs": [
    {
     "name": "stdout",
     "output_type": "stream",
     "text": [
      "03922b871a76a243957bdc26f1204c7612f221c9213697afef17a9ac602b84a042\n"
     ]
    }
   ],
   "source": [
    "from coincurve import PrivateKey\n",
    "\n",
    "private_bytes = bytes.fromhex(os.getenv(\"PRIV_KEY\"))\n",
    "private_key = PrivateKey(private_bytes)\n",
    "public_key = private_key.public_key.format(compressed=True)\n",
    "print(public_key.hex())\n",
    "\n",
    "async def sign_and_send_transaction(operation):\n",
    "    transaction = Transaction(\n",
    "        operations=[operation],\n",
    "        signers=[public_key],\n",
    "        signatures=None,\n",
    "        blockchain_rid=client.config.blockchain_rid\n",
    "    )\n",
    "    signed_tx = await client.sign_transaction(transaction, private_bytes)\n",
    "    receipt = await client.send_transaction(signed_tx, do_status_polling=True)\n",
    "    return receipt\n"
   ]
  },
  {
   "cell_type": "code",
   "execution_count": 4,
   "id": "f06e9101",
   "metadata": {},
   "outputs": [
    {
     "name": "stdout",
     "output_type": "stream",
     "text": [
      "TransactionReceipt(status='confirmed', status_code=200, transaction_rid=b'ox3\\xf7bu]\\x93\\x7f\\x08Ix\\x9b\\xa2 \\x93\\x18\\xbc\\x13\\xb6\\xf1/\\xf6\\x1f=\\n\\x19#\\n\\xfb\\x7f\\xf8', message=None, cluster_anchored_tx=None, system_anchored_tx=None)\n",
      "Sensor Count: 1\n"
     ]
    }
   ],
   "source": [
    "import json\n",
    "# Create sensor\n",
    "metadata = json.dumps({\"robot\": \"demo\", \"status\": \"active\"})\n",
    "\n",
    "operation = Operation(\n",
    "    op_name=\"create_sensor\",\n",
    "    args=[\n",
    "        \"ChromBot\",\n",
    "        metadata\n",
    "    ]\n",
    ")\n",
    "receipt = await sign_and_send_transaction(operation)\n",
    "print(receipt)\n",
    "sensor_result = await client.query(\"get_sensor_count\")\n",
    "print(f\"Sensor Count: {sensor_result}\")"
   ]
  },
  {
   "cell_type": "code",
   "execution_count": 5,
   "id": "a37e79b1",
   "metadata": {},
   "outputs": [
    {
     "name": "stdout",
     "output_type": "stream",
     "text": [
      "Operation(op_name='add_data', args=['ChromBot', '69'])\n"
     ]
    }
   ],
   "source": [
    "operation = Operation(\n",
    "    op_name=\"add_data\",\n",
    "    args=[\n",
    "        \"ChromBot\",\n",
    "        \"69\"\n",
    "    ]\n",
    ")\n",
    "\n",
    "print(operation)"
   ]
  },
  {
   "cell_type": "code",
   "execution_count": 6,
   "id": "70a2c0f9",
   "metadata": {},
   "outputs": [
    {
     "name": "stdout",
     "output_type": "stream",
     "text": [
      "Transaction(operations=[Operation(op_name='add_data', args=['ChromBot', '69'])], signers=[b'\\x03\\x92+\\x87\\x1av\\xa2C\\x95{\\xdc&\\xf1 Lv\\x12\\xf2!\\xc9!6\\x97\\xaf\\xef\\x17\\xa9\\xac`+\\x84\\xa0B'], signatures=None, blockchain_rid='E880B57E6C5EA1A1DA59D7E7C53382951A6E4AD5E8B7081BC17EA5E7C0D424B1')\n"
     ]
    }
   ],
   "source": [
    "transaction = Transaction(\n",
    "    operations=[operation],\n",
    "    signers=[public_key],\n",
    "    signatures=None,\n",
    "    blockchain_rid=client.config.blockchain_rid\n",
    ")\n",
    "print(transaction)"
   ]
  },
  {
   "cell_type": "code",
   "execution_count": 7,
   "id": "390cefd6",
   "metadata": {},
   "outputs": [
    {
     "name": "stdout",
     "output_type": "stream",
     "text": [
      "TransactionReceipt(status='confirmed', status_code=200, transaction_rid=b'H1\\x9fX\\x08\\x8b\\xdd\\x9f4\\xca\\xef@\\xa1J\\xff\\x03\\xf2_\\xcd\\xbc\\x88~\\x19>#\\xec\\xf6\\xf8\\xecid\\xb7', message=None, cluster_anchored_tx=None, system_anchored_tx=None)\n"
     ]
    }
   ],
   "source": [
    "signed_tx = await client.sign_transaction(transaction, private_bytes)\n",
    "receipt = await client.send_transaction(signed_tx, do_status_polling=True)\n",
    "\n",
    "print(receipt)   "
   ]
  },
  {
   "cell_type": "code",
   "execution_count": 10,
   "id": "e0c5a1e1",
   "metadata": {},
   "outputs": [
    {
     "name": "stdout",
     "output_type": "stream",
     "text": [
      "Telemetry Data (1 records):\n",
      "  1. Sensor: ChromBot, ID: 1758789186414, Metadata: {\"robot\":\"demo\",\"status\":\"active\"}, Battery: 69%, Timestamp: 1758789191652 Creator: 03922b871a76a243957bdc26f1204c7612f221c9213697afef17a9ac602b84a042\n"
     ]
    }
   ],
   "source": [
    "result = await client.query(\"get_all_data\")\n",
    "print(f\"Telemetry Data ({len(result)} records):\")\n",
    "\n",
    "for i, record in enumerate(result, 1):\n",
    "    sensor_id = record[0]\n",
    "    sensor_name = record[1]\n",
    "    metadata = record[2]\n",
    "    creator = record[3]\n",
    "    battery = record[4]\n",
    "    timestamp = record[5]\n",
    "    print(f\"  {i}. Sensor: {sensor_name}, ID: {sensor_id}, Metadata: {metadata}, Battery: {battery}%, Timestamp: {timestamp} Creator: {creator.hex()}\")"
   ]
  },
  {
   "cell_type": "code",
   "execution_count": 9,
   "id": "b9df0f81",
   "metadata": {},
   "outputs": [],
   "source": [
    "# Clean up\n",
    "await client.rest_client.close()"
   ]
  }
 ],
 "metadata": {
  "kernelspec": {
   "display_name": ".venv",
   "language": "python",
   "name": "python3"
  },
  "language_info": {
   "codemirror_mode": {
    "name": "ipython",
    "version": 3
   },
   "file_extension": ".py",
   "mimetype": "text/x-python",
   "name": "python",
   "nbconvert_exporter": "python",
   "pygments_lexer": "ipython3",
   "version": "3.12.2"
  }
 },
 "nbformat": 4,
 "nbformat_minor": 5
}
