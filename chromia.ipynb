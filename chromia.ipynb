{
 "cells": [
  {
   "cell_type": "code",
   "execution_count": 10,
   "id": "67e39550",
   "metadata": {},
   "outputs": [],
   "source": [
    "from dotenv import load_dotenv\n",
    "load_dotenv()\n",
    "\n",
    "import os\n",
    "import asyncio\n",
    "from postchain_client_py import BlockchainClient\n",
    "from postchain_client_py.blockchain_client.types import NetworkSettings, Operation, Transaction\n",
    "\n",
    "# Initialize network settings\n",
    "settings = NetworkSettings(\n",
    "    node_url_pool=[\"http://localhost:7740\"],\n",
    "    blockchain_iid=0,\n",
    ")\n",
    "    \n",
    "# Create client and execute query\n",
    "client = await BlockchainClient.create(settings)"
   ]
  },
  {
   "cell_type": "code",
   "execution_count": 11,
   "id": "6839a046",
   "metadata": {},
   "outputs": [
    {
     "name": "stdout",
     "output_type": "stream",
     "text": [
      "Telemetry Data (0 records):\n"
     ]
    }
   ],
   "source": [
    "result = await client.query(\"get_all_data\")\n",
    "print(f\"Telemetry Data ({len(result)} records):\")\n",
    "for i, record in enumerate(result, 1):\n",
    "    sensor_id, battery, timestamp = record\n",
    "    print(f\"  {i}. Sensor: {sensor_id}, Battery: {battery}%, Timestamp: {timestamp}\")"
   ]
  },
  {
   "cell_type": "code",
   "execution_count": 12,
   "id": "785cdad7",
   "metadata": {},
   "outputs": [
    {
     "name": "stdout",
     "output_type": "stream",
     "text": [
      "03922b871a76a243957bdc26f1204c7612f221c9213697afef17a9ac602b84a042\n"
     ]
    }
   ],
   "source": [
    "from coincurve import PrivateKey\n",
    "\n",
    "private_bytes = bytes.fromhex(os.getenv(\"PRIV_KEY\"))\n",
    "private_key = PrivateKey(private_bytes)\n",
    "public_key = private_key.public_key.format(compressed=True)\n",
    "print(public_key.hex())"
   ]
  },
  {
   "cell_type": "code",
   "execution_count": 13,
   "id": "a37e79b1",
   "metadata": {},
   "outputs": [
    {
     "name": "stdout",
     "output_type": "stream",
     "text": [
      "Operation(op_name='add_data', args=['ChromBot', '69'])\n"
     ]
    }
   ],
   "source": [
    "operation = Operation(\n",
    "    op_name=\"add_data\",\n",
    "    args=[\n",
    "        \"ChromBot\",\n",
    "        \"69\"\n",
    "    ]\n",
    ")\n",
    "\n",
    "print(operation)"
   ]
  },
  {
   "cell_type": "code",
   "execution_count": 14,
   "id": "70a2c0f9",
   "metadata": {},
   "outputs": [
    {
     "name": "stdout",
     "output_type": "stream",
     "text": [
      "Transaction(operations=[Operation(op_name='add_data', args=['ChromBot', '69'])], signers=[b'\\x03\\x92+\\x87\\x1av\\xa2C\\x95{\\xdc&\\xf1 Lv\\x12\\xf2!\\xc9!6\\x97\\xaf\\xef\\x17\\xa9\\xac`+\\x84\\xa0B'], signatures=None, blockchain_rid='099C14C931139955BB7651CE550BFB89112A02B239BF503359BDA6D8D46856B6')\n"
     ]
    }
   ],
   "source": [
    "transaction = Transaction(\n",
    "    operations=[operation],\n",
    "    signers=[public_key],\n",
    "    signatures=None,\n",
    "    blockchain_rid=client.config.blockchain_rid\n",
    ")\n",
    "print(transaction)"
   ]
  },
  {
   "cell_type": "code",
   "execution_count": 15,
   "id": "390cefd6",
   "metadata": {},
   "outputs": [
    {
     "name": "stdout",
     "output_type": "stream",
     "text": [
      "TransactionReceipt(status='confirmed', status_code=200, transaction_rid=b\"^H9\\xcd\\xfdM\\x14\\xda\\xb0\\xca|#\\xc5y\\xcc'\\xe2\\xcd\\x078\\x90k_a\\x1b.\\xd7H\\xbc\\xa5M\\xb9\", message=None, cluster_anchored_tx=None, system_anchored_tx=None)\n"
     ]
    }
   ],
   "source": [
    "signed_tx = await client.sign_transaction(transaction, private_bytes)\n",
    "receipt = await client.send_transaction(signed_tx, do_status_polling=True)\n",
    "\n",
    "print(receipt)   "
   ]
  },
  {
   "cell_type": "code",
   "execution_count": 20,
   "id": "e0c5a1e1",
   "metadata": {},
   "outputs": [
    {
     "name": "stdout",
     "output_type": "stream",
     "text": [
      "Telemetry Data (1 records):\n",
      "  1. Sensor: ChromBot, Battery: 69%, Timestamp: 1758693993198\n"
     ]
    }
   ],
   "source": [
    "result = await client.query(\"get_all_data\")\n",
    "print(f\"Telemetry Data ({len(result)} records):\")\n",
    "for i, record in enumerate(result, 1):\n",
    "    sensor_id = record['sensor_id']\n",
    "    battery = record['battery']\n",
    "    timestamp = record['timestamp']\n",
    "    print(f\"  {i}. Sensor: {sensor_id}, Battery: {battery}%, Timestamp: {timestamp}\")"
   ]
  },
  {
   "cell_type": "code",
   "execution_count": 16,
   "id": "b9df0f81",
   "metadata": {},
   "outputs": [],
   "source": [
    "# Clean up\n",
    "await client.rest_client.close()"
   ]
  }
 ],
 "metadata": {
  "kernelspec": {
   "display_name": ".venv",
   "language": "python",
   "name": "python3"
  },
  "language_info": {
   "codemirror_mode": {
    "name": "ipython",
    "version": 3
   },
   "file_extension": ".py",
   "mimetype": "text/x-python",
   "name": "python",
   "nbconvert_exporter": "python",
   "pygments_lexer": "ipython3",
   "version": "3.12.2"
  }
 },
 "nbformat": 4,
 "nbformat_minor": 5
}
